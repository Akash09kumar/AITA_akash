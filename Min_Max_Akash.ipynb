{
 "cells": [
  {
   "cell_type": "code",
   "execution_count": null,
   "id": "c9ad5736",
   "metadata": {},
   "outputs": [],
   "source": []
  },
  {
   "cell_type": "code",
   "execution_count": 8,
   "id": "37884a0a",
   "metadata": {},
   "outputs": [],
   "source": [
    "board = [' ' for _ in range(9)]  # Initial empty board\n",
    "\n",
    "def print_board(board):\n",
    "    for i in range(0, 9, 3):\n",
    "        print(' | '.join(board[i:i+3]))\n",
    "        if i < 6:\n",
    "            print('--------')\n",
    "\n",
    "def is_valid_move(board, move):\n",
    "    return board[move] == ' '\n",
    "\n",
    "def is_game_over(board):\n",
    "    winning_combinations = [(0, 1, 2), (3, 4, 5), (6, 7, 8), (0, 3, 6), (1, 4, 7), (2, 5, 8), (0, 4, 8), (2, 4, 6)]\n",
    "    for combination in winning_combinations:\n",
    "        if board[combination[0]] == board[combination[1]] == board[combination[2]] != ' ':\n",
    "            return True\n",
    "    return ' ' not in board  # Return True if the board is full"
   ]
  },
  {
   "cell_type": "code",
   "execution_count": 9,
   "id": "4a093d45",
   "metadata": {},
   "outputs": [],
   "source": [
    "def minimax(board, depth, is_maximizing_player):\n",
    "    if is_game_over(board):\n",
    "        if is_maximizing_player:\n",
    "            return -1\n",
    "        else:\n",
    "            return 1\n",
    "    if is_maximizing_player:\n",
    "        max_eval = float('-inf')\n",
    "        for i in range(9):\n",
    "            if is_valid_move(board, i):\n",
    "                board[i] = 'X'\n",
    "                eval = minimax(board, depth + 1, False)\n",
    "                board[i] = ' '  # Undo move\n",
    "                max_eval = max(max_eval, eval)\n",
    "        return max_eval\n",
    "    else:\n",
    "        min_eval = float('inf')\n",
    "        for i in range(9):\n",
    "            if is_valid_move(board, i):\n",
    "                board[i] = 'O'\n",
    "                eval = minimax(board, depth + 1, True)\n",
    "                board[i] = ' '  # Undo move\n",
    "                min_eval = min(min_eval, eval)\n",
    "        return min_eval"
   ]
  },
  {
   "cell_type": "code",
   "execution_count": 10,
   "id": "66cab14d",
   "metadata": {},
   "outputs": [],
   "source": [
    "def make_optimal_move(board):\n",
    "    max_eval = float('-inf')\n",
    "    move = -1\n",
    "    for i in range(9):\n",
    "        if is_valid_move(board, i):\n",
    "            board[i] = 'X'\n",
    "            eval = minimax(board, 0, False)\n",
    "            board[i] = ' '  # Undo move\n",
    "            if eval > max_eval:\n",
    "                max_eval = eval\n",
    "                move = i\n",
    "    return move"
   ]
  },
  {
   "cell_type": "code",
   "execution_count": 11,
   "id": "e8325b5e",
   "metadata": {},
   "outputs": [
    {
     "name": "stdout",
     "output_type": "stream",
     "text": [
      "X |   |  \n",
      "--------\n",
      "  |   |  \n",
      "--------\n",
      "  |   |  \n",
      "X |   |  \n",
      "--------\n",
      "  |   |  \n",
      "--------\n",
      "O |   |  \n",
      "X | X |  \n",
      "--------\n",
      "  |   |  \n",
      "--------\n",
      "O |   |  \n",
      "X | X |  \n",
      "--------\n",
      "O |   |  \n",
      "--------\n",
      "O |   |  \n",
      "X | X | X\n",
      "--------\n",
      "O |   |  \n",
      "--------\n",
      "O |   |  \n",
      "X wins!\n"
     ]
    }
   ],
   "source": [
    "import random\n",
    "\n",
    "while not is_game_over(board):\n",
    "    move = make_optimal_move(board)\n",
    "    board[move] = 'X'\n",
    "    print_board(board)\n",
    "    if is_game_over(board):\n",
    "        print(\"X wins!\")\n",
    "        break\n",
    "    while True:\n",
    "        move = random.randint(0, 8)\n",
    "        if is_valid_move(board, move):\n",
    "            board[move] = 'O'\n",
    "            break\n",
    "    print_board(board)\n",
    "    if is_game_over(board):\n",
    "        print(\"O wins!\")"
   ]
  },
  {
   "cell_type": "code",
   "execution_count": null,
   "id": "79f2481a",
   "metadata": {},
   "outputs": [],
   "source": []
  }
 ],
 "metadata": {
  "kernelspec": {
   "display_name": "Python 3 (ipykernel)",
   "language": "python",
   "name": "python3"
  },
  "language_info": {
   "codemirror_mode": {
    "name": "ipython",
    "version": 3
   },
   "file_extension": ".py",
   "mimetype": "text/x-python",
   "name": "python",
   "nbconvert_exporter": "python",
   "pygments_lexer": "ipython3",
   "version": "3.11.3"
  }
 },
 "nbformat": 4,
 "nbformat_minor": 5
}
