{
 "cells": [
  {
   "cell_type": "code",
   "execution_count": 4,
   "id": "54e64a6e",
   "metadata": {},
   "outputs": [
    {
     "name": "stdout",
     "output_type": "stream",
     "text": [
      "Chosen path: root -> intermediate1 -> leaf2 with value: 5\n"
     ]
    }
   ],
   "source": [
    "class Node:\n",
    "    def __init__(self, name, value=None, children=None):\n",
    "        self.name = name\n",
    "        self.value = value\n",
    "        self.children = children if children is not None else []\n",
    "\n",
    "    def is_terminal(self):\n",
    "        return not self.children\n",
    "\n",
    "    def __repr__(self):\n",
    "        return f\"{self.name}: {self.value}\"\n",
    "\n",
    "\n",
    "def min_max(node, depth, maximizing_player):\n",
    "    if depth == 0 or node.is_terminal():\n",
    "        return node.value, [node.name]\n",
    "\n",
    "    if maximizing_player:\n",
    "        max_value = float('-inf')\n",
    "        path = []\n",
    "        for child in node.children:\n",
    "            value, child_path = min_max(child, depth - 1, False)\n",
    "            if value > max_value:\n",
    "                max_value = value\n",
    "                path = child_path\n",
    "        return max_value, [node.name] + path\n",
    "\n",
    "    else:\n",
    "        min_value = float('inf')\n",
    "        path = []\n",
    "        for child in node.children:\n",
    "            value, child_path = min_max(child, depth - 1, True)\n",
    "            if value < min_value:\n",
    "                min_value = value\n",
    "                path = child_path\n",
    "        return min_value, [node.name] + path\n",
    "\n",
    "\n",
    "# Create the decision tree\n",
    "leaf1 = Node('leaf1', 3)\n",
    "leaf2 = Node('leaf2', 5)\n",
    "leaf3 = Node('leaf3', 2)\n",
    "leaf4 = Node('leaf4', 9)\n",
    "intermediate1 = Node('intermediate1', children=[leaf4, leaf2])\n",
    "intermediate2 = Node('intermediate2', children=[leaf3, leaf1])\n",
    "root = Node('root', children=[intermediate1, intermediate2])\n",
    "\n",
    "# Run the Min-Max algorithm\n",
    "value, decision_path = min_max(root, depth=2, maximizing_player=True)\n",
    "print(f\"Chosen path: {' -> '.join(decision_path)} with value: {value}\")"
   ]
  },
  {
   "cell_type": "code",
   "execution_count": null,
   "id": "d8c73a8d",
   "metadata": {},
   "outputs": [],
   "source": []
  }
 ],
 "metadata": {
  "kernelspec": {
   "display_name": "Python 3 (ipykernel)",
   "language": "python",
   "name": "python3"
  },
  "language_info": {
   "codemirror_mode": {
    "name": "ipython",
    "version": 3
   },
   "file_extension": ".py",
   "mimetype": "text/x-python",
   "name": "python",
   "nbconvert_exporter": "python",
   "pygments_lexer": "ipython3",
   "version": "3.11.3"
  }
 },
 "nbformat": 4,
 "nbformat_minor": 5
}
